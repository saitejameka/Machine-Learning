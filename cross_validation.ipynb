{
  "nbformat": 4,
  "nbformat_minor": 0,
  "metadata": {
    "colab": {
      "name": "Untitled",
      "provenance": [],
      "collapsed_sections": [],
      "authorship_tag": "ABX9TyPIdNJlWahXHfQ43U2vHMwY",
      "include_colab_link": true
    },
    "kernelspec": {
      "name": "python3",
      "display_name": "Python 3"
    }
  },
  "cells": [
    {
      "cell_type": "markdown",
      "metadata": {
        "id": "view-in-github",
        "colab_type": "text"
      },
      "source": [
        "<a href=\"https://colab.research.google.com/github/saitejameka/Machine-Learning/blob/master/cross_validation.ipynb\" target=\"_parent\"><img src=\"https://colab.research.google.com/assets/colab-badge.svg\" alt=\"Open In Colab\"/></a>"
      ]
    },
    {
      "cell_type": "code",
      "metadata": {
        "id": "yahQxtmT1jZt",
        "colab_type": "code",
        "colab": {}
      },
      "source": [
        "from google.colab import drive\n",
        "drive.mount('/content/drive')"
      ],
      "execution_count": 0,
      "outputs": []
    },
    {
      "cell_type": "code",
      "metadata": {
        "id": "ldnLP5t81MzH",
        "colab_type": "code",
        "outputId": "195d8617-d4ae-4295-fa07-edb6780012dc",
        "colab": {
          "base_uri": "https://localhost:8080/",
          "height": 85
        }
      },
      "source": [
        "import numpy as np\n",
        "\n",
        "from sklearn.datasets import load_breast_cancer\n",
        "from sklearn.preprocessing import scale\n",
        "data = load_breast_cancer()\n",
        "X,y = data.data, data.target\n",
        "X = scale(X)\n",
        "\n",
        "from sklearn.model_selection import train_test_split\n",
        "\n",
        "X_trainval, X_test, y_trainval, y_test = train_test_split(X,y)\n",
        "\n",
        "X_train, X_val, y_train, y_val  = train_test_split(X_trainval, y_trainval)\n",
        "\n",
        "from sklearn.neighbors import KNeighborsClassifier\n",
        "knn = KNeighborsClassifier(n_neighbors=5).fit(X_train, y_train)\n",
        "\n",
        "print(knn.score(X_val, y_val))\n",
        "print(knn.score(X_test, y_test))\n",
        "\n",
        "\n",
        "val = []\n",
        "test = []\n",
        "\n",
        "for i in range(1000):\n",
        "  rng = np.random.RandomState(i)\n",
        "  noise = rng.normal(scale=.1, size=X_train.shape)\n",
        "  knn = KNeighborsClassifier(n_neighbors=5)\n",
        "  knn.fit(X_train + noise, y_train)\n",
        "  val.append(knn.score(X_val, y_val))\n",
        "  test.append(knn.score(X_test, y_test))\n",
        "\n",
        "print(np.max(np.max(val)))\n",
        "print(test[np.argmax(val)])"
      ],
      "execution_count": 14,
      "outputs": [
        {
          "output_type": "stream",
          "text": [
            "0.9532710280373832\n",
            "0.9440559440559441\n",
            "0.9626168224299065\n",
            "0.9370629370629371\n"
          ],
          "name": "stdout"
        }
      ]
    },
    {
      "cell_type": "code",
      "metadata": {
        "id": "eO8j5O4H6d6J",
        "colab_type": "code",
        "colab": {
          "base_uri": "https://localhost:8080/",
          "height": 119
        },
        "outputId": "fc623190-cef5-404f-f4b5-ca7e3a2a82a9"
      },
      "source": [
        "X_trainval, X_test, y_trainval, y_test = train_test_split(X,y)\n",
        "\n",
        "X_train, X_val, y_train, y_val  = train_test_split(X_trainval, y_trainval)\n",
        "\n",
        "\n",
        "val_scores = []\n",
        "\n",
        "neighbors = np.arange(1, 15, 2)\n",
        "\n",
        "for i in neighbors:\n",
        "  knn = KNeighborsClassifier(n_neighbors=i)\n",
        "  knn.fit(X_train, y_train)\n",
        "  val_scores.append(knn.score(X_val, y_val))\n",
        "print(np.max(val_scores))\n",
        "best_n_neighbors = neighbors[np.argmax(val_scores)]#the neighbor that gave the best validation score\n",
        "print(neighbors[np.argmax(val_scores)])\n",
        "print(neighbors)\n",
        "print(val_scores)\n",
        "print(best_n_neighbors)\n",
        "knn = KNeighborsClassifier(n_neighbors=best_n_neighbors)\n",
        "knn.fit(X_trainval, y_trainval)\n",
        "\n",
        "print(knn.score(X_test, y_test))\n",
        "\n",
        "#3 fold split has high variance - so using cross validation\n",
        "\n",
        "#cv - more stable, less dependant on the split, more data to built the model\n",
        "#we also get to know about uncertainity , how good this kind of model is on this kind of data set.\n",
        "\n",
        "#cv - use training data to find the parameters, and cv on training dataset, compare different models \n",
        "\n",
        "#then use test data set for evaluation.\n",
        "\n"
      ],
      "execution_count": 8,
      "outputs": [
        {
          "output_type": "stream",
          "text": [
            "0.9532710280373832\n",
            "5\n",
            "[ 1  3  5  7  9 11 13]\n",
            "[0.9252336448598131, 0.9439252336448598, 0.9532710280373832, 0.9532710280373832, 0.9532710280373832, 0.9532710280373832, 0.9345794392523364]\n",
            "5\n",
            "0.965034965034965\n"
          ],
          "name": "stdout"
        }
      ]
    },
    {
      "cell_type": "code",
      "metadata": {
        "id": "AE32Use0ADeQ",
        "colab_type": "code",
        "colab": {
          "base_uri": "https://localhost:8080/",
          "height": 68
        },
        "outputId": "7e15e9ff-525e-4a7a-d21e-239a5c791b89"
      },
      "source": [
        "from sklearn.model_selection import cross_val_score\n",
        "\n",
        "X_train, X_test, y_train, y_test = train_test_split(X,y)\n",
        "\n",
        "cross_val_scores = []\n",
        "\n",
        "for i in neighbors:\n",
        "  knn = KNeighborsClassifier(n_neighbors=i)\n",
        "  scores = cross_val_score(knn, X_train, y_train, cv=10)\n",
        "  cross_val_scores.append(np.mean(scores))\n",
        "\n",
        "print(np.max(cross_val_scores))\n",
        "#agrmax tells which n setting has best validation score\n",
        "best_n_neighbors = neighbors[np.argmax(cross_val_scores)]\n",
        "print(best_n_neighbors)\n",
        "\n",
        "knn = KNeighborsClassifier(n_neighbors=best_n_neighbors)\n",
        "knn.fit(X_train, y_train)\n",
        "print(knn.score(X_test, y_test))\n"
      ],
      "execution_count": 13,
      "outputs": [
        {
          "output_type": "stream",
          "text": [
            "0.9740310077519381\n",
            "7\n",
            "0.965034965034965\n"
          ],
          "name": "stdout"
        }
      ]
    },
    {
      "cell_type": "code",
      "metadata": {
        "id": "kSC1qXPEXoFv",
        "colab_type": "code",
        "colab": {}
      },
      "source": [
        "from sklearn.model_selection import GridSearchCV\n",
        "#gridsearch because it search a grid of all possible combinations"
      ],
      "execution_count": 0,
      "outputs": []
    },
    {
      "cell_type": "code",
      "metadata": {
        "id": "gS4KtbBojSqK",
        "colab_type": "code",
        "colab": {
          "base_uri": "https://localhost:8080/",
          "height": 615
        },
        "outputId": "9739da9c-03c3-4401-c007-a790366ca6a0"
      },
      "source": [
        "#stratify -keeps same distribution for both train and test data sets\n",
        "X_train, X_test, y_train, y_test = train_test_split(X, y, stratify=y)\n",
        "\n",
        "param_grid = {'n_neighbors': np.arange(1, 15, 2)}\n",
        "\n",
        "grid = GridSearchCV(KNeighborsClassifier(), \n",
        "                    param_grid=param_grid, \n",
        "                    cv=10, \n",
        "                    return_train_score=True)\n",
        "\n",
        "grid.fit(X_train, y_train)\n",
        "\n",
        "print(grid.best_score_)\n",
        "\n",
        "print(grid.best_params_)\n",
        "\n",
        "print(grid.score(X_test, y_test))\n",
        "\n",
        "print(grid.cv_results_)"
      ],
      "execution_count": 18,
      "outputs": [
        {
          "output_type": "stream",
          "text": [
            "0.9576411960132891\n",
            "{'n_neighbors': 9}\n",
            "0.9790209790209791\n",
            "{'mean_fit_time': array([0.00125027, 0.00120716, 0.0011692 , 0.00117397, 0.00115371,\n",
            "       0.00119102, 0.00124652]), 'std_fit_time': array([2.08536105e-04, 4.95390895e-05, 1.63347179e-05, 1.64104047e-05,\n",
            "       1.66360824e-05, 3.32443484e-05, 9.95601873e-05]), 'mean_score_time': array([0.00338717, 0.00332406, 0.00350366, 0.00331638, 0.00331724,\n",
            "       0.00351727, 0.00357499]), 'std_score_time': array([0.00061141, 0.00026136, 0.00086195, 0.00011446, 0.00013551,\n",
            "       0.00018027, 0.00014893]), 'param_n_neighbors': masked_array(data=[1, 3, 5, 7, 9, 11, 13],\n",
            "             mask=[False, False, False, False, False, False, False],\n",
            "       fill_value='?',\n",
            "            dtype=object), 'params': [{'n_neighbors': 1}, {'n_neighbors': 3}, {'n_neighbors': 5}, {'n_neighbors': 7}, {'n_neighbors': 9}, {'n_neighbors': 11}, {'n_neighbors': 13}], 'split0_test_score': array([0.93023256, 0.97674419, 0.97674419, 0.97674419, 1.        ,\n",
            "       1.        , 1.        ]), 'split1_test_score': array([1.        , 0.97674419, 1.        , 0.97674419, 0.97674419,\n",
            "       0.97674419, 0.97674419]), 'split2_test_score': array([1.        , 1.        , 1.        , 1.        , 1.        ,\n",
            "       0.97674419, 0.97674419]), 'split3_test_score': array([0.90697674, 0.88372093, 0.86046512, 0.86046512, 0.86046512,\n",
            "       0.86046512, 0.86046512]), 'split4_test_score': array([0.95348837, 0.95348837, 0.97674419, 0.97674419, 1.        ,\n",
            "       1.        , 1.        ]), 'split5_test_score': array([0.95348837, 0.93023256, 0.95348837, 0.95348837, 0.95348837,\n",
            "       0.95348837, 0.95348837]), 'split6_test_score': array([0.88095238, 0.88095238, 0.88095238, 0.9047619 , 0.9047619 ,\n",
            "       0.9047619 , 0.9047619 ]), 'split7_test_score': array([1., 1., 1., 1., 1., 1., 1.]), 'split8_test_score': array([0.95238095, 0.97619048, 0.95238095, 0.95238095, 0.95238095,\n",
            "       0.95238095, 0.95238095]), 'split9_test_score': array([0.88095238, 0.95238095, 0.95238095, 0.92857143, 0.92857143,\n",
            "       0.92857143, 0.92857143]), 'mean_test_score': array([0.94584718, 0.9530454 , 0.95531561, 0.95299003, 0.9576412 ,\n",
            "       0.95531561, 0.95531561]), 'std_test_score': array([0.04374294, 0.04073423, 0.0463201 , 0.04194801, 0.04546578,\n",
            "       0.04380405, 0.04380405]), 'rank_test_score': array([7, 5, 2, 6, 1, 2, 2], dtype=int32), 'split0_train_score': array([1.        , 0.9843342 , 0.96866841, 0.96344648, 0.95822454,\n",
            "       0.96083551, 0.95561358]), 'split1_train_score': array([1.        , 0.97650131, 0.96344648, 0.96083551, 0.96344648,\n",
            "       0.95822454, 0.95822454]), 'split2_train_score': array([1.        , 0.98172324, 0.96344648, 0.95822454, 0.96083551,\n",
            "       0.95561358, 0.95561358]), 'split3_train_score': array([1.        , 0.9843342 , 0.97127937, 0.96605744, 0.96866841,\n",
            "       0.96344648, 0.96083551]), 'split4_train_score': array([1.        , 0.9843342 , 0.96605744, 0.96083551, 0.96083551,\n",
            "       0.96083551, 0.95561358]), 'split5_train_score': array([1.        , 0.97911227, 0.96083551, 0.96866841, 0.96605744,\n",
            "       0.96605744, 0.96083551]), 'split6_train_score': array([1.        , 0.97916667, 0.97395833, 0.96875   , 0.97135417,\n",
            "       0.97135417, 0.9609375 ]), 'split7_train_score': array([1.        , 0.98177083, 0.96614583, 0.95833333, 0.9609375 ,\n",
            "       0.9609375 , 0.95572917]), 'split8_train_score': array([1.        , 0.97916667, 0.97135417, 0.96354167, 0.9609375 ,\n",
            "       0.96354167, 0.96614583]), 'split9_train_score': array([1.        , 0.98177083, 0.96354167, 0.96354167, 0.96614583,\n",
            "       0.96354167, 0.9609375 ]), 'mean_train_score': array([1.        , 0.98122144, 0.96687337, 0.96322346, 0.96374429,\n",
            "       0.96243881, 0.95904863]), 'std_train_score': array([0.        , 0.00255139, 0.00406383, 0.00358861, 0.00395613,\n",
            "       0.00409591, 0.00333149])}\n"
          ],
          "name": "stdout"
        }
      ]
    },
    {
      "cell_type": "code",
      "metadata": {
        "id": "xN463aBZkk7x",
        "colab_type": "code",
        "colab": {
          "base_uri": "https://localhost:8080/",
          "height": 221
        },
        "outputId": "d6b31ac0-e1a1-4fc8-c01a-606b00accda0"
      },
      "source": [
        "from sklearn.model_selection import KFold, StratifiedKFold, ShuffleSplit, RepeatedStratifiedKFold\n",
        "\n",
        "kfold = KFold(n_splits=5)\n",
        "skfold = StratifiedKFold(n_splits=5, shuffle=True)\n",
        "ss = ShuffleSplit(n_splits=5, train_size=4, test_size=3)\n",
        "rs = RepeatedStratifiedKFold(n_splits=5, n_repeats=10)\n",
        "\n",
        "print(cross_val_score(KNeighborsClassifier(),X, y, cv=kfold))\n",
        "\n",
        "print(cross_val_score(KNeighborsClassifier(), X, y, cv=skfold))\n",
        "\n",
        "print(cross_val_score(KNeighborsClassifier(n_neighbors=4), X, y, cv=ss))\n",
        " \n",
        "print(cross_val_score(KNeighborsClassifier(), X, y, cv=rs))\n",
        "import pandas as pd\n",
        "from sklearn.model_selection import cross_validate\n",
        "res = cross_validate(KNeighborsClassifier(), \n",
        "                     X, y, \n",
        "                     return_train_score=True,\n",
        "                     cv=5,\n",
        "                     scoring=['accuracy', 'roc_auc']\n",
        "                     )\n",
        "res_df = pd.DataFrame(res)\n"
      ],
      "execution_count": 25,
      "outputs": [
        {
          "output_type": "stream",
          "text": [
            "[0.92982456 0.95614035 0.96491228 0.98245614 0.96460177]\n",
            "[0.96491228 0.96491228 0.97368421 0.98245614 0.95575221]\n",
            "[1.         0.66666667 0.66666667 0.         1.        ]\n",
            "[0.96491228 0.96491228 0.93859649 0.98245614 0.96460177 0.95614035\n",
            " 0.97368421 0.95614035 0.96491228 0.98230088 0.98245614 0.94736842\n",
            " 0.96491228 0.96491228 0.98230088 0.96491228 0.94736842 0.97368421\n",
            " 0.95614035 0.98230088 0.95614035 0.99122807 0.97368421 0.95614035\n",
            " 0.94690265 0.97368421 0.97368421 0.97368421 0.95614035 0.95575221\n",
            " 0.98245614 0.97368421 0.95614035 0.95614035 0.97345133 0.98245614\n",
            " 0.98245614 0.92982456 0.96491228 0.97345133 0.95614035 0.96491228\n",
            " 0.98245614 0.95614035 0.96460177 0.98245614 0.94736842 0.98245614\n",
            " 0.95614035 0.96460177]\n"
          ],
          "name": "stdout"
        }
      ]
    },
    {
      "cell_type": "code",
      "metadata": {
        "id": "a7BMnyNGDFPR",
        "colab_type": "code",
        "colab": {}
      },
      "source": [
        ""
      ],
      "execution_count": 0,
      "outputs": []
    }
  ]
}