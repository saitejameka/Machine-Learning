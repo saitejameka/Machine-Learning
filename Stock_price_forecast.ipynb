{
  "nbformat": 4,
  "nbformat_minor": 0,
  "metadata": {
    "colab": {
      "name": "Stock_price_forecast.ipynb",
      "provenance": [],
      "collapsed_sections": [],
      "authorship_tag": "ABX9TyONcs1MalvIzXlup3kQonOD",
      "include_colab_link": true
    },
    "kernelspec": {
      "name": "python3",
      "display_name": "Python 3"
    }
  },
  "cells": [
    {
      "cell_type": "markdown",
      "metadata": {
        "id": "view-in-github",
        "colab_type": "text"
      },
      "source": [
        "<a href=\"https://colab.research.google.com/github/saitejameka/Machine-Learning/blob/master/Stock_price_forecast.ipynb\" target=\"_parent\"><img src=\"https://colab.research.google.com/assets/colab-badge.svg\" alt=\"Open In Colab\"/></a>"
      ]
    },
    {
      "cell_type": "code",
      "metadata": {
        "id": "BRSVfhQgk-E_",
        "colab_type": "code",
        "colab": {
          "base_uri": "https://localhost:8080/",
          "height": 768
        },
        "outputId": "71e7cd11-0f10-483d-8a7b-27ac13d81c70"
      },
      "source": [
        "from datetime import datetime\n",
        "\n",
        "import pandas as pd\n",
        "from pandas_datareader import data as pdr\n",
        "import numpy as np\n",
        "import matplotlib.pyplot as plt\n",
        "\n",
        "from sklearn.linear_model import LinearRegression\n",
        "from sklearn.svm import SVR\n",
        "from sklearn.model_selection import train_test_split\n",
        "\n",
        "\n",
        "\n",
        "company_ticker = \"M&M.NS\"\n",
        "# Retrieve the data from Yahoo finance:\n",
        "AAPL = pdr.get_data_yahoo(company_ticker) \n",
        "print(AAPL.head())\n",
        "print(AAPL.tail())\n",
        "print(AAPL.columns)\n",
        "\n",
        "df = AAPL[['Adj Close']]\n",
        "print('Close prices',df.head())\n",
        "\n",
        "forecast_after_no_of_days = 1\n",
        "\n",
        "#shift - how many rows you want to shift data up\n",
        "df['prediction'] = df[['Adj Close']].shift(-forecast_after_no_of_days)\n",
        "\n",
        "X = np.array(df.drop(['prediction'],1))\n",
        "\n",
        "X = X[:-forecast_after_no_of_days]\n",
        "\n",
        "print(X)\n",
        "\n",
        "y = np.array(df['prediction'])\n",
        "\n",
        "y = y[:-forecast_after_no_of_days]\n",
        "\n",
        "X_train, X_test, y_train, y_test = train_test_split(X, y, test_size=0.2)\n",
        "\n",
        "svr_rbf = SVR(kernel='rbf', C=1e3, gamma=0.1).fit(X_train, y_train)\n",
        "\n",
        "#score returns the coefficient of determination R^2 of the prediction\n",
        "svm_conf = svr_rbf.score(X_test, y_test)\n",
        "print(svm_conf)\n",
        "\n",
        "lr = LinearRegression().fit(X_train, y_train)\n",
        "lr_conf = lr.score(X_test, y_test)\n",
        "print(lr_conf)\n",
        "\n",
        "X_forecast = np.array(df.drop(['prediction'],1))[-forecast_after_no_of_days:]\n",
        "print(X_forecast)\n",
        "\n",
        "#lr prediction for next n days\n",
        "lr_pred = lr.predict(X_forecast)\n",
        "print(lr_pred)\n",
        "#svm prediction for next n days\n",
        "svm_pred = svr_rbf.predict(X_forecast)\n",
        "print(svm_pred)\n",
        "\n"
      ],
      "execution_count": 26,
      "outputs": [
        {
          "output_type": "stream",
          "text": [
            "                  High         Low  ...     Volume   Adj Close\n",
            "Date                                ...                       \n",
            "2015-05-26  636.450012  626.000000  ...   705404.0  585.088928\n",
            "2015-05-27  629.250000  606.974976  ...  1997572.0  566.443665\n",
            "2015-05-28  611.974976  592.025024  ...  2378236.0  555.024963\n",
            "2015-05-29  633.875000  584.825012  ...  6907312.0  582.795837\n",
            "2015-06-01  635.000000  620.000000  ...  1242246.0  582.795837\n",
            "\n",
            "[5 rows x 6 columns]\n",
            "                  High         Low  ...      Volume   Adj Close\n",
            "Date                                ...                        \n",
            "2020-05-18  383.500000  367.250000  ...   7717665.0  377.200012\n",
            "2020-05-19  391.000000  371.200012  ...   5950003.0  382.899994\n",
            "2020-05-20  413.700012  379.700012  ...  10608175.0  405.049988\n",
            "2020-05-21  412.200012  397.799988  ...   6249309.0  408.299988\n",
            "2020-05-22  430.350006  398.700012  ...  10012180.0  426.350006\n",
            "\n",
            "[5 rows x 6 columns]\n",
            "Index(['High', 'Low', 'Open', 'Close', 'Volume', 'Adj Close'], dtype='object')\n",
            "Close prices              Adj Close\n",
            "Date                  \n",
            "2015-05-26  585.088928\n",
            "2015-05-27  566.443665\n",
            "2015-05-28  555.024963\n",
            "2015-05-29  582.795837\n",
            "2015-06-01  582.795837\n",
            "[[585.08892822]\n",
            " [566.44366455]\n",
            " [555.02496338]\n",
            " ...\n",
            " [382.8999939 ]\n",
            " [405.04998779]\n",
            " [408.29998779]]\n"
          ],
          "name": "stdout"
        },
        {
          "output_type": "stream",
          "text": [
            "/usr/local/lib/python3.6/dist-packages/ipykernel_launcher.py:27: SettingWithCopyWarning: \n",
            "A value is trying to be set on a copy of a slice from a DataFrame.\n",
            "Try using .loc[row_indexer,col_indexer] = value instead\n",
            "\n",
            "See the caveats in the documentation: https://pandas.pydata.org/pandas-docs/stable/user_guide/indexing.html#returning-a-view-versus-a-copy\n"
          ],
          "name": "stderr"
        },
        {
          "output_type": "stream",
          "text": [
            "0.8872385269210247\n",
            "0.9876628098255306\n",
            "[[426.3500061]]\n",
            "[427.95910154]\n",
            "[507.25167438]\n"
          ],
          "name": "stdout"
        }
      ]
    },
    {
      "cell_type": "code",
      "metadata": {
        "id": "kg1ohvfDogyV",
        "colab_type": "code",
        "colab": {}
      },
      "source": [
        ""
      ],
      "execution_count": 0,
      "outputs": []
    }
  ]
}